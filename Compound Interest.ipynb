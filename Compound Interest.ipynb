{
 "metadata": {
  "language": "Julia",
  "name": "Compound Interest"
 },
 "nbformat": 3,
 "nbformat_minor": 0,
 "worksheets": [
  {
   "cells": [
    {
     "cell_type": "code",
     "collapsed": false,
     "input": "# Compounds were to be 1, 4, 365, 10000, and 20000. At 10000 and above my browser crashes everytime\n# This is n number of compounds of n number of years and again the additional money from additional compounding per year is negligible\n\nfunction compound(n)\n    r = 0.05\n    a = 100\n    for i = 1:n\n        @printf(\"%d. Principle is %d and \", i, a)\n        a = a*((1+r/n)^n)\n        @printf(\"compound result in year %d is %d \\n\", i, a)\n    end\nend",
     "language": "python",
     "metadata": {},
     "outputs": [
      {
       "metadata": {},
       "output_type": "pyout",
       "prompt_number": 172,
       "text": "compound (generic function with 1 method)"
      }
     ],
     "prompt_number": 172
    },
    {
     "cell_type": "code",
     "collapsed": false,
     "input": "compound(1)",
     "language": "python",
     "metadata": {},
     "outputs": [
      {
       "output_type": "stream",
       "stream": "stdout",
       "text": "1"
      },
      {
       "output_type": "stream",
       "stream": "stdout",
       "text": ". Principle is 100 and compound result in year 1 is 105 \n"
      }
     ],
     "prompt_number": 173
    },
    {
     "cell_type": "code",
     "collapsed": false,
     "input": "compound(4)",
     "language": "python",
     "metadata": {},
     "outputs": [
      {
       "output_type": "stream",
       "stream": "stdout",
       "text": "1"
      },
      {
       "output_type": "stream",
       "stream": "stdout",
       "text": ". Principle is 100 and compound result in year 1 is 105 \n2. Principle is 105 and compound result in year 2 is 110 \n3. Principle is 110 and compound result in year 3 is 116 \n4. Principle is 116 and compound result in year 4 is 122 \n"
      }
     ],
     "prompt_number": 174
    },
    {
     "cell_type": "code",
     "collapsed": false,
     "input": "compound(365)",
     "language": "python",
     "metadata": {},
     "outputs": [
      {
       "output_type": "stream",
       "stream": "stdout",
       "text": "1"
      },
      {
       "output_type": "stream",
       "stream": "stdout",
       "text": ". Principle is 100 and compound result in year 1 is 105 \n2. Principle is 105 and compound result in year 2 is 111 \n3. Principle is 111 and compound result in year 3 is 116 \n4. Principle is 116 and compound result in year 4 is 122 \n5. Principle is 122 and compound result in year 5 is 128 \n6. Principle is 128 and compound result in year 6 is 135 \n7. Principle is 135 and compound result in year 7 is 142 \n8. Principle is 142 and compound result in year 8 is 149 \n9. Principle is 149 and compound result in year 9 is 157 \n10. Principle is 157 and compound result in year 10 is 165 \n11. Principle is 165 and compound result in year 11 is 173 \n12. Principle is 173 and compound result in year 12 is 182 \n13. Principle is 182 and compound result in year 13 is 192 \n14. Principle is 192 and compound result in year 14 is 201 \n15. Principle is 201 and compound result in year 15 is 212 \n16. Principle is 212 and compound result in year 16 is 223 \n17. Principle is 223 and compound result in year 17 is 234 \n18. Principle is 234 and compound result in year 18 is 246 \n19. Principle is 246 and compound result in year 19 is 259 \n20. Principle is 259 and compound result in year 20 is 272 \n21. Principle is 272 and compound result in year 21 is 286 \n22. Principle is 286 and compound result in year 22 is 300 \n23. Principle is 300 and compound result in year 23 is 316 \n24. Principle is 316 and compound result in year 24 is 332 \n25. Principle is 332 and compound result in year 25 is 349 \n26. Principle is 349 and compound result in year 26 is 367 \n27. Principle is 367 and compound result in year 27 is 386 \n28. Principle is 386 and compound result in year 28 is 405 \n29. Principle is 405 and compound result in year 29 is 426 \n30. Principle is 426 and compound result in year 30 is 448 \n31. Principle is 448 and compound result in year 31 is 471 \n32. Principle is 471 and compound result in year 32 is 495 \n33. Principle is 495 and compound result in year 33 is 521 \n34. Principle is 521 and compound result in year 34 is 547 \n35. Principle is 547 and compound result in year 35 is 575 \n36. Principle is 575 and compound result in year 36 is 605 \n37. Principle is 605 and compound result in year 37 is 636 \n38. Principle is 636 and compound result in year 38 is 669 \n39. Principle is 669 and compound result in year 39 is 703 \n40. Principle is 703 and compound result in year 40 is 739 \n41. Principle is 739 and compound result in year 41 is 777 \n42. Principle is 777 and compound result in year 42 is 816 \n43. Principle is 816 and compound result in year 43 is 858 \n44. Principle is 858 and compound result in year 44 is 902 \n45. Principle is 902 and compound result in year 45 is 949 \n46. Principle is 949 and compound result in year 46 is 997 \n47. Principle is 997 and compound result in year 47 is 1048 \n48. Principle is 1048 and compound result in year 48 is 1102 \n49. Principle is 1102 and compound result in year 49 is 1159 \n50. Principle is 1159 and compound result in year 50 is 1218 \n51. Principle is 1218 and compound result in year 51 is 1280 \n52. Principle is 1280 and compound result in year 52 is 1346 \n53. Principle is 1346 and compound result in year 53 is 1415 \n54. Principle is 1415 and compound result in year 54 is 1488 \n55. Principle is 1488 and compound result in year 55 is 1564 \n56. Principle is 1564 and compound result in year 56 is 1644 \n57. Principle is 1644 and compound result in year 57 is 1728 \n58. Principle is 1728 and compound result in year 58 is 1817 \n59. Principle is 1817 and compound result in year 59 is 1910 \n60. Principle is 1910 and compound result in year 60 is 2008 \n61. Principle is 2008 and compound result in year 61 is 2111 \n62. Principle is 2111 and compound result in year 62 is 2219 \n63. Principle is 2219 and compound result in year 63 is 2333 \n64. Principle is 2333 and compound result in year 64 is 2453 \n65. Principle is 2453 and compound result in year 65 is 2578 \n66. Principle is 2578 and compound result in year 66 is 2711 \n67. Principle is 2711 and compound result in year 67 is 2850 \n68. Principle is 2850 and compound result in year 68 is 2996 \n69. Principle is 2996 and compound result in year 69 is 3149 \n70. Principle is 3149 and compound result in year 70 is 3311 \n71. Principle is 3311 and compound result in year 71 is 3480 \n72. Principle is 3480 and compound result in year 72 is 3659 \n73. Principle is 3659 and compound result in year 73 is 3847 \n74. Principle is 3847 and compound result in year 74 is 4044 \n75. Principle is 4044 and compound result in year 75 is 4251 \n76. Principle is 4251 and compound result in year 76 is 4469 \n77. Principle is 4469 and compound result in year 77 is 4698 \n78. Principle is 4698 and compound result in year 78 is 4939 \n79. Principle is 4939 and compound result in year 79 is 5192 \n80. Principle is 5192 and compound result in year 80 is 5458 \n81. Principle is 5458 and compound result in year 81 is 5738 \n82. Principle is 5738 and compound result in year 82 is 6032 \n83. Principle is 6032 and compound result in year 83 is 6342 \n84. Principle is 6342 and compound result in year 84 is 6667 \n85. Principle is 6667 and compound result in year 85 is 7009 \n86. Principle is 7009 and compound result in year 86 is 7368 \n87. Principle is 7368 and compound result in year 87 is 7746 \n88. Principle is 7746 and compound result in year 88 is 8143 \n89. Principle is 8143 and compound result in year 89 is 8560 \n90. Principle is 8560 and compound result in year 90 is 8999 \n91. Principle is 8999 and compound result in year 91 is 9460 \n92. Principle is 9460 and compound result in year 92 is 9945 \n93. Principle is 9945 and compound result in year 93 is 10455 \n94. Principle is 10455 and compound result in year 94 is 10991 \n95"
      },
      {
       "output_type": "stream",
       "stream": "stdout",
       "text": ". Principle is 10991 and compound result in year 95 is 11555 \n96. Principle is 11555 and compound result in year 96 is 12147 \n97. Principle is 12147 and compound result in year 97 is 12770 \n98. Principle is 12770 and compound result in year 98 is 13424 \n99. Principle is 13424 and compound result in year 99 is 14113 \n100. Principle is 14113 and compound result in year 100 is 14836 \n101. Principle is 14836 and compound result in year 101 is 15597 \n102. Principle is 15597 and compound result in year 102 is 16396 \n103. Principle is 16396 and compound result in year 103 is 17237 \n104. Principle is 17237 and compound result in year 104 is 18121 \n105. Principle is 18121 and compound result in year 105 is 19050 \n106. Principle is 19050 and compound result in year 106 is 20026 \n107. Principle is 20026 and compound result in year 107 is 21053 \n108. Principle is 21053 and compound result in year 108 is 22132 \n109. Principle is 22132 and compound result in year 109 is 23267 \n110. Principle is 23267 and compound result in year 110 is 24460 \n111. Principle is 24460 and compound result in year 111 is 25714 \n112. Principle is 25714 and compound result in year 112 is 27032 \n113. Principle is 27032 and compound result in year 113 is 28418 \n114. Principle is 28418 and compound result in year 114 is 29875 \n115. Principle is 29875 and compound result in year 115 is 31407 \n116. Principle is 31407 and compound result in year 116 is 33017 \n117. Principle is 33017 and compound result in year 117 is 34710 \n118. Principle is 34710 and compound result in year 118 is 36489 \n119. Principle is 36489 and compound result in year 119 is 38360 \n120. Principle is 38360 and compound result in year 120 is 40326 \n121. Principle is 40326 and compound result in year 121 is 42394 \n122. Principle is 42394 and compound result in year 122 is 44567 \n123. Principle is 44567 and compound result in year 123 is 46852 \n124. Principle is 46852 and compound result in year 124 is 49254 \n125. Principle is 49254 and compound result in year 125 is 51779 \n126. Principle is 51779 and compound result in year 126 is 54434 \n127. Principle is 54434 and compound result in year 127 is 57224 \n128. Principle is 57224 and compound result in year 128 is 60158 \n129. Principle is 60158 and compound result in year 129 is 63242 \n130. Principle is 63242 and compound result in year 130 is 66485 \n131. Principle is 66485 and compound result in year 131 is 69893 \n132. Principle is 69893 and compound result in year 132 is 73476 \n133. Principle is 73476 and compound result in year 133 is 77243 \n134. Principle is 77243 and compound result in year 134 is 81203 \n135. Principle is 81203 and compound result in year 135 is 85366 \n136. Principle is 85366 and compound result in year 136 is 89743 \n137. Principle is 89743 and compound result in year 137 is 94344 \n138. Principle is 94344 and compound result in year 138 is 99181 \n139. Principle is 99181 and compound result in year 139 is 104265 \n140. Principle is 104265 and compound result in year 140 is 109611 \n141. Principle is 109611 and compound result in year 141 is 115230 \n142. Principle is 115230 and compound result in year 142 is 121138 \n143. Principle is 121138 and compound result in year 143 is 127348 \n144. Principle is 127348 and compound result in year 144 is 133877 \n145. Principle is 133877 and compound result in year 145 is 140741 \n146. Principle is 140741 and compound result in year 146 is 147956 \n147. Principle is 147956 and compound result in year 147 is 155541 \n148. Principle is 155541 and compound result in year 148 is 163516 \n149. Principle is 163516 and compound result in year 149 is 171899 \n150. Principle is 171899 and compound result in year 150 is 180711 \n151. Principle is 180711 and compound result in year 151 is 189976 \n152. Principle is 189976 and compound result in year 152 is 199716 \n153. Principle is 199716 and compound result in year 153 is 209955 \n154. Principle is 209955 and compound result in year 154 is 220718 \n155. Principle is 220718 and compound result in year 155 is 232034 \n156. Principle is 232034 and compound result in year 156 is 243930 \n157. Principle is 243930 and compound result in year 157 is 256436 \n158. Principle is 256436 and compound result in year 158 is 269582 \n159. Principle is 269582 and compound result in year 159 is 283403 \n160. Principle is 283403 and compound result in year 160 is 297933 \n161. Principle is 297933 and compound result in year 161 is 313207 \n162. Principle is 313207 and compound result in year 162 is 329264 \n163. Principle is 329264 and compound result in year 163 is 346145 \n164. Principle is 346145 and compound result in year 164 is 363891 \n165. Principle is 363891 and compound result in year 165 is 382546 \n166. Principle is 382546 and compound result in year 166 is 402159 \n167. Principle is 402159 and compound result in year 167 is 422776 \n168. Principle is 422776 and compound result in year 168 is 444451 \n169. Principle is 444451 and compound result in year 169 is 467237 \n170. Principle is 467237 and compound result in year 170 is 491191 \n171. Principle is 491191 and compound result in year 171 is 516373 \n172. Principle is 516373 and compound result in year 172 is 542846 \n173. Principle is 542846 and compound result in year 173 is 570676 \n174. Principle is 570676 and compound result in year 174 is 599934 \n175. Principle is 599934 and compound result in year 175 is 630691 \n176. Principle is 630691 and compound result in year 176 is 663025 \n177. Principle is 663025 and compound result in year 177 is 697016 \n178. Principle is 697016 and compound result in year 178 is 732751 \n179. Principle is 732751 and compound result in year 179 is 770317 \n180. Principle is 770317 and compound result in year 180 is 809809 \n181. Principle is 809809 and compound result in year 181 is 851326 \n182. Principle is 851326 and compound result in year 182 is 894971 \n183. Principle is 894971 and compound result in year 183 is 940854 \n184. Principle is 940854 and compound result in year 184 is 989090 \n185. Principle is 989090 and compound result in year 185 is 1039798 \n186. Principle is 1039798 and compound result in year 186 is 1093105 \n187. Principle is 1093105 and compound result in year 187 is 1149146 \n188. Principle is 1149146 and compound result in year 188 is 1208060 \n189"
      },
      {
       "output_type": "stream",
       "stream": "stdout",
       "text": ". Principle is 1208060 and compound result in year 189 is 1269994 \n190. Principle is 1269994 and compound result in year 190 is 1335104 \n191. Principle is 1335104 and compound result in year 191 is 1403551 \n192. Principle is 1403551 and compound result in year 192 is 1475508 \n193. Principle is 1475508 and compound result in year 193 is 1551153 \n194. Principle is 1551153 and compound result in year 194 is 1630677 \n195. Principle is 1630677 and compound result in year 195 is 1714278 \n196. Principle is 1714278 and compound result in year 196 is 1802165 \n197. Principle is 1802165 and compound result in year 197 is 1894557 \n198. Principle is 1894557 and compound result in year 198 is 1991686 \n199. Principle is 1991686 and compound result in year 199 is 2093795 \n200. Principle is 2093795 and compound result in year 200 is 2201139 \n201. Principle is 2201139 and compound result in year 201 is 2313985 \n202. Principle is 2313985 and compound result in year 202 is 2432618 \n203. Principle is 2432618 and compound result in year 203 is 2557332 \n204. Principle is 2557332 and compound result in year 204 is 2688440 \n205. Principle is 2688440 and compound result in year 205 is 2826269 \n206. Principle is 2826269 and compound result in year 206 is 2971165 \n207. Principle is 2971165 and compound result in year 207 is 3123489 \n208. Principle is 3123489 and compound result in year 208 is 3283623 \n209. Principle is 3283623 and compound result in year 209 is 3451966 \n210. Principle is 3451966 and compound result in year 210 is 3628940 \n211. Principle is 3628940 and compound result in year 211 is 3814986 \n212. Principle is 3814986 and compound result in year 212 is 4010571 \n213. Principle is 4010571 and compound result in year 213 is 4216183 \n214. Principle is 4216183 and compound result in year 214 is 4432336 \n215. Principle is 4432336 and compound result in year 215 is 4659571 \n216. Principle is 4659571 and compound result in year 216 is 4898456 \n217. Principle is 4898456 and compound result in year 217 is 5149587 \n218. Principle is 5149587 and compound result in year 218 is 5413594 \n219. Principle is 5413594 and compound result in year 219 is 5691135 \n220. Principle is 5691135 and compound result in year 220 is 5982905 \n221. Principle is 5982905 and compound result in year 221 is 6289634 \n222. Principle is 6289634 and compound result in year 222 is 6612088 \n223. Principle is 6612088 and compound result in year 223 is 6951073 \n224. Principle is 6951073 and compound result in year 224 is 7307437 \n225. Principle is 7307437 and compound result in year 225 is 7682071 \n226. Principle is 7682071 and compound result in year 226 is 8075911 \n227. Principle is 8075911 and compound result in year 227 is 8489943 \n228. Principle is 8489943 and compound result in year 228 is 8925201 \n229. Principle is 8925201 and compound result in year 229 is 9382774 \n230. Principle is 9382774 and compound result in year 230 is 9863805 \n231. Principle is 9863805 and compound result in year 231 is 10369498 \n232. Principle is 10369498 and compound result in year 232 is 10901116 \n233. Principle is 10901116 and compound result in year 233 is 11459989 \n234. Principle is 11459989 and compound result in year 234 is 12047514 \n235. Principle is 12047514 and compound result in year 235 is 12665160 \n236. Principle is 12665160 and compound result in year 236 is 13314471 \n237. Principle is 13314471 and compound result in year 237 is 13997071 \n238. Principle is 13997071 and compound result in year 238 is 14714665 \n239. Principle is 14714665 and compound result in year 239 is 15469049 \n240. Principle is 15469049 and compound result in year 240 is 16262109 \n241. Principle is 16262109 and compound result in year 241 is 17095826 \n242. Principle is 17095826 and compound result in year 242 is 17972287 \n243. Principle is 17972287 and compound result in year 243 is 18893681 \n244. Principle is 18893681 and compound result in year 244 is 19862312 \n245. Principle is 19862312 and compound result in year 245 is 20880603 \n246. Principle is 20880603 and compound result in year 246 is 21951100 \n247. Principle is 21951100 and compound result in year 247 is 23076478 \n248. Principle is 23076478 and compound result in year 248 is 24259551 \n249. Principle is 24259551 and compound result in year 249 is 25503277 \n250. Principle is 25503277 and compound result in year 250 is 26810766 \n251. Principle is 26810766 and compound result in year 251 is 28185287 \n252. Principle is 28185287 and compound result in year 252 is 29630276 \n253. Principle is 29630276 and compound result in year 253 is 31149347 \n254. Principle is 31149347 and compound result in year 254 is 32746296 \n255. Principle is 32746296 and compound result in year 255 is 34425116 \n256. Principle is 34425116 and compound result in year 256 is 36190006 \n257. Principle is 36190006 and compound result in year 257 is 38045377 \n258. Principle is 38045377 and compound result in year 258 is 39995868 \n259. Principle is 39995868 and compound result in year 259 is 42046356 \n260. Principle is 42046356 and compound result in year 260 is 44201967 \n261. Principle is 44201967 and compound result in year 261 is 46468092 \n262. Principle is 46468092 and compound result in year 262 is 48850394 \n263. Principle is 48850394 and compound result in year 263 is 51354832 \n264. Principle is 51354832 and compound result in year 264 is 53987665 \n265. Principle is 53987665 and compound result in year 265 is 56755478 \n266. Principle is 56755478 and compound result in year 266 is 59665189 \n267. Principle is 59665189 and compound result in year 267 is 62724074 \n268. Principle is 62724074 and compound result in year 268 is 65939780 \n269. Principle is 65939780 and compound result in year 269 is 69320348 \n270. Principle is 69320348 and compound result in year 270 is 72874228 \n271. Principle is 72874228 and compound result in year 271 is 76610308 \n272. Principle is 76610308 and compound result in year 272 is 80537926 \n273. Principle is 80537926 and compound result in year 273 is 84666904 \n274. Principle is 84666904 and compound result in year 274 is 89007564 \n275. Principle is 89007564 and compound result in year 275 is 93570759 \n276. Principle is 93570759 and compound result in year 276 is 98367898 \n277. Principle is 98367898 and compound result in year 277 is 103410974 \n278. Principle is 103410974 and compound result in year 278 is 108712595 \n279. Principle is 108712595 and compound result in year 279 is 114286018 \n280. Principle is 114286018 and compound result in year 280 is 120145176 \n281. Principle is 120145176 and compound result in year 281 is 126304718 \n282. Principle is 126304718 and compound result in year 282 is 132780045 \n283. Principle is 132780045 and compound result in year 283 is 139587346 \n284. Principle is 139587346 and compound result in year 284 is 146743639 \n285. Principle is 146743639"
      },
      {
       "output_type": "stream",
       "stream": "stdout",
       "text": " and compound result in year 285 is 154266818 \n286. Principle is 154266818 and compound result in year 286 is 162175692 \n287. Principle is 162175692 and compound result in year 287 is 170490034 \n288. Principle is 170490034 and compound result in year 288 is 179230631 \n289. Principle is 179230631 and compound result in year 289 is 188419337 \n290. Principle is 188419337 and compound result in year 290 is 198079124 \n291. Principle is 198079124 and compound result in year 291 is 208234145 \n292. Principle is 208234145 and compound result in year 292 is 218909788 \n293. Principle is 218909788 and compound result in year 293 is 230132745 \n294. Principle is 230132745 and compound result in year 294 is 241931075 \n295. Principle is 241931075 and compound result in year 295 is 254334275 \n296. Principle is 254334275 and compound result in year 296 is 267373357 \n297. Principle is 267373357 and compound result in year 297 is 281080919 \n298. Principle is 281080919 and compound result in year 298 is 295491235 \n299. Principle is 295491235 and compound result in year 299 is 310640330 \n300. Principle is 310640330 and compound result in year 300 is 326566082 \n301. Principle is 326566082 and compound result in year 301 is 343308308 \n302. Principle is 343308308 and compound result in year 302 is 360908865 \n303. Principle is 360908865 and compound result in year 303 is 379411759 \n304. Principle is 379411759 and compound result in year 304 is 398863250 \n305. Principle is 398863250 and compound result in year 305 is 419311971 \n306. Principle is 419311971 and compound result in year 306 is 440809046 \n307. Principle is 440809046 and compound result in year 307 is 463408222 \n308. Principle is 463408222 and compound result in year 308 is 487166001 \n309. Principle is 487166001 and compound result in year 309 is 512141782 \n310. Principle is 512141782 and compound result in year 310 is 538398009 \n311. Principle is 538398009 and compound result in year 311 is 566000327 \n312. Principle is 566000327 and compound result in year 312 is 595017747 \n313. Principle is 595017747 and compound result in year 313 is 625522818 \n314. Principle is 625522818 and compound result in year 314 is 657591806 \n315. Principle is 657591806 and compound result in year 315 is 691304892 \n316. Principle is 691304892 and compound result in year 316 is 726746363 \n317. Principle is 726746363 and compound result in year 317 is 764004830 \n318. Principle is 764004830 and compound result in year 318 is 803173445 \n319. Principle is 803173445 and compound result in year 319 is 844350136 \n320. Principle is 844350136 and compound result in year 320 is 887637854 \n321. Principle is 887637854 and compound result in year 321 is 933144824 \n322. Principle is 933144824 and compound result in year 322 is 980984823 \n323. Principle is 980984823 and compound result in year 323 is 1031277459 \n324. Principle is 1031277459 and compound result in year 324 is 1084148473 \n325. Principle is 1084148473 and compound result in year 325 is 1139730051 \n326. Principle is 1139730051 and compound result in year 326 is 1198161157 \n327. Principle is 1198161157 and compound result in year 327 is 1259587880 \n328. Principle is 1259587880 and compound result in year 328 is 1324163797 \n329. Principle is 1324163797 and compound result in year 329 is 1392050360 \n330. Principle is 1392050360 and compound result in year 330 is 1463417297 \n331. Principle is 1463417297 and compound result in year 331 is 1538443038 \n332. Principle is 1538443038 and compound result in year 332 is 1617315161 \n333. Principle is 1617315161 and compound result in year 333 is 1700230861 \n334. Principle is 1700230861 and compound result in year 334 is 1787397440 \n335. Principle is 1787397440 and compound result in year 335 is 1879032832 \n336. Principle is 1879032832 and compound result in year 336 is 1975366141 \n337. Principle is 1975366141 and compound result in year 337 is 2076638218 \n338. Principle is 2076638218 and compound result in year 338 is 2183102260 \n339. Principle is 2183102260 and compound result in year 339 is 2295024448 \n340. Principle is 2295024448 and compound result in year 340 is 2412684606 \n341. Principle is 2412684606 and compound result in year 341 is 2536376905 \n342. Principle is 2536376905 and compound result in year 342 is 2666410599 \n343. Principle is 2666410599 and compound result in year 343 is 2803110795 \n344. Principle is 2803110795 and compound result in year 344 is 2946819268 \n345. Principle is 2946819268 and compound result in year 345 is 3097895314 \n346. Principle is 3097895314 and compound result in year 346 is 3256716651 \n347. Principle is 3256716651 and compound result in year 347 is 3423680361 \n348. Principle is 3423680361 and compound result in year 348 is 3599203882 \n349. Principle is 3599203882 and compound result in year 349 is 3783726054 \n350. Principle is 3783726054 and compound result in year 350 is 3977708216 \n351. Principle is 3977708216 and compound result in year 351 is 4181635358 \n352. Principle is 4181635358 and compound result in year 352 is 4396017334 \n353. Principle is 4396017334 and compound result in year 353 is 4621390137 \n354. Principle is 4621390137 and compound result in year 354 is 4858317240 \n355. Principle is 4858317240 and compound result in year 355 is 5107391002 \n356. Principle is 5107391002 and compound result in year 356 is 5369234152 \n357. Principle is 5369234152 and compound result in year 357 is 5644501345 \n358. Principle is 5644501345 and compound result in year 358 is 5933880797 \n359. Principle is 5933880797 and compound result in year 359 is 6238096010 \n360. Principle is 6238096010 and compound result in year 360 is 6557907575 \n361. Principle is 6557907575 and compound result in year 361 is 6894115079 \n362. Principle is 6894115079 and compound result in year 362 is 7247559099 \n363. Principle is 7247559099 and compound result in year 363 is 7619123310 \n364. Principle is 7619123310 and compound result in year 364 is 8009736687 \n365. Principle is 8009736687 and compound result in year 365 is 8420375834 \n"
      }
     ],
     "prompt_number": 175
    },
    {
     "cell_type": "code",
     "collapsed": false,
     "input": "# This would be the yearly result with compounding of 1, 4, 365, 10000, and 20000\n# Multiple compoundings per year has a negligible effect the on the resultant amount\n# According to this site, http://www.moneychimp.com/calculator/compound_interest_calculator.htm, it would be .13 more if I could get the precision but I can't get that to work\n\nfunction comp(n)\n    r = 0.05\n    a = 100\n    \n    @printf(\"Principle is %d and \", a)\n    a = a*(e^(n*(log(1+r/n))))\n    @printf(\"compound result is %d \\n\", a)\nend",
     "language": "python",
     "metadata": {},
     "outputs": [
      {
       "metadata": {},
       "output_type": "pyout",
       "prompt_number": 166,
       "text": "comp (generic function with 1 method)"
      }
     ],
     "prompt_number": 166
    },
    {
     "cell_type": "code",
     "collapsed": false,
     "input": "comp(1)",
     "language": "python",
     "metadata": {},
     "outputs": [
      {
       "output_type": "stream",
       "stream": "stdout",
       "text": "Principle is "
      },
      {
       "output_type": "stream",
       "stream": "stdout",
       "text": "100 and compound result is 105 \n"
      }
     ],
     "prompt_number": 167
    },
    {
     "cell_type": "code",
     "collapsed": false,
     "input": "comp(4)",
     "language": "python",
     "metadata": {},
     "outputs": [
      {
       "output_type": "stream",
       "stream": "stdout",
       "text": "Principle is "
      },
      {
       "output_type": "stream",
       "stream": "stdout",
       "text": "100 and compound result is 105 \n"
      }
     ],
     "prompt_number": 168
    },
    {
     "cell_type": "code",
     "collapsed": false,
     "input": "comp(365)",
     "language": "python",
     "metadata": {},
     "outputs": [
      {
       "output_type": "stream",
       "stream": "stdout",
       "text": "Principle is "
      },
      {
       "output_type": "stream",
       "stream": "stdout",
       "text": "100 and compound result is 105 \n"
      }
     ],
     "prompt_number": 169
    },
    {
     "cell_type": "code",
     "collapsed": false,
     "input": "comp(10000)",
     "language": "python",
     "metadata": {},
     "outputs": [
      {
       "output_type": "stream",
       "stream": "stdout",
       "text": "Principle is "
      },
      {
       "output_type": "stream",
       "stream": "stdout",
       "text": "100 and compound result is 105 \n"
      }
     ],
     "prompt_number": 170
    },
    {
     "cell_type": "code",
     "collapsed": false,
     "input": "comp(20000)",
     "language": "python",
     "metadata": {},
     "outputs": [
      {
       "output_type": "stream",
       "stream": "stdout",
       "text": "Principle is "
      },
      {
       "output_type": "stream",
       "stream": "stdout",
       "text": "100 and compound result is 105 \n"
      }
     ],
     "prompt_number": 171
    }
   ],
   "metadata": {}
  }
 ]
}